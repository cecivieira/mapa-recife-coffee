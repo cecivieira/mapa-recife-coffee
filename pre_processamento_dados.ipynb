{
 "cells": [
  {
   "cell_type": "code",
   "execution_count": 33,
   "id": "75599331-aac9-4015-aa29-c0d07878f5f5",
   "metadata": {},
   "outputs": [],
   "source": [
    "import pandas as pd"
   ]
  },
  {
   "cell_type": "code",
   "execution_count": 34,
   "id": "23b31127-bb05-4bc7-bf82-2d9cd4103088",
   "metadata": {},
   "outputs": [],
   "source": [
    "cafeterias = pd.read_csv('dados.csv')"
   ]
  },
  {
   "cell_type": "code",
   "execution_count": 35,
   "id": "79701307-3aa7-4a0d-be47-0d7c0da7c0c1",
   "metadata": {},
   "outputs": [
    {
     "data": {
      "text/html": [
       "<div>\n",
       "<style scoped>\n",
       "    .dataframe tbody tr th:only-of-type {\n",
       "        vertical-align: middle;\n",
       "    }\n",
       "\n",
       "    .dataframe tbody tr th {\n",
       "        vertical-align: top;\n",
       "    }\n",
       "\n",
       "    .dataframe thead th {\n",
       "        text-align: right;\n",
       "    }\n",
       "</style>\n",
       "<table border=\"1\" class=\"dataframe\">\n",
       "  <thead>\n",
       "    <tr style=\"text-align: right;\">\n",
       "      <th></th>\n",
       "      <th>titulo</th>\n",
       "      <th>instagram</th>\n",
       "      <th>coordenadas</th>\n",
       "      <th>horario</th>\n",
       "      <th>menu</th>\n",
       "    </tr>\n",
       "  </thead>\n",
       "  <tbody>\n",
       "    <tr>\n",
       "      <th>0</th>\n",
       "      <td>A vida é bela</td>\n",
       "      <td>avidaebela.cafe</td>\n",
       "      <td>-8.05013240889161, -34.95860768857569</td>\n",
       "      <td>Terça a Sábado - 14h às 20h</td>\n",
       "      <td>imagens/a-vida-e-bela.png</td>\n",
       "    </tr>\n",
       "    <tr>\n",
       "      <th>1</th>\n",
       "      <td>Artisano café e cozinha</td>\n",
       "      <td>artisanocafe</td>\n",
       "      <td>-8.0515953250438, -34.909794673230785</td>\n",
       "      <td>Segunda a Quinta - 12h às 20h\\nSextas - 12h às...</td>\n",
       "      <td>imagens/artisano.png</td>\n",
       "    </tr>\n",
       "    <tr>\n",
       "      <th>2</th>\n",
       "      <td>Aurora café</td>\n",
       "      <td>auroracafe.recife</td>\n",
       "      <td>-8.061159360596644, -34.87160533275631</td>\n",
       "      <td>Conferir horário do Museu Paço do Frevo</td>\n",
       "      <td>imagens/aurora-cafe.png</td>\n",
       "    </tr>\n",
       "  </tbody>\n",
       "</table>\n",
       "</div>"
      ],
      "text/plain": [
       "                    titulo           instagram  \\\n",
       "0            A vida é bela    avidaebela.cafe    \n",
       "1  Artisano café e cozinha       artisanocafe    \n",
       "2              Aurora café  auroracafe.recife    \n",
       "\n",
       "                              coordenadas  \\\n",
       "0   -8.05013240889161, -34.95860768857569   \n",
       "1   -8.0515953250438, -34.909794673230785   \n",
       "2  -8.061159360596644, -34.87160533275631   \n",
       "\n",
       "                                             horario  \\\n",
       "0                        Terça a Sábado - 14h às 20h   \n",
       "1  Segunda a Quinta - 12h às 20h\\nSextas - 12h às...   \n",
       "2            Conferir horário do Museu Paço do Frevo   \n",
       "\n",
       "                        menu  \n",
       "0  imagens/a-vida-e-bela.png  \n",
       "1       imagens/artisano.png  \n",
       "2    imagens/aurora-cafe.png  "
      ]
     },
     "execution_count": 35,
     "metadata": {},
     "output_type": "execute_result"
    }
   ],
   "source": [
    "cafeterias.head(3)"
   ]
  },
  {
   "cell_type": "code",
   "execution_count": 36,
   "id": "b8aef980-ff4d-44c6-b76d-5d6aaabf5718",
   "metadata": {},
   "outputs": [],
   "source": [
    "cafeterias[['latitude', 'longitude']] = cafeterias['coordenadas'].str.split(pat=',', expand=True)"
   ]
  },
  {
   "cell_type": "code",
   "execution_count": 37,
   "id": "a613e190-7391-49e2-87d9-6a70108a0d9c",
   "metadata": {},
   "outputs": [],
   "source": [
    "cafeterias.drop(columns=['coordenadas'], inplace=True)"
   ]
  },
  {
   "cell_type": "code",
   "execution_count": 38,
   "id": "74521ef8-f729-4e67-a91c-21d8263c6a9f",
   "metadata": {},
   "outputs": [
    {
     "name": "stdout",
     "output_type": "stream",
     "text": [
      "<class 'pandas.core.frame.DataFrame'>\n",
      "RangeIndex: 25 entries, 0 to 24\n",
      "Data columns (total 6 columns):\n",
      " #   Column     Non-Null Count  Dtype \n",
      "---  ------     --------------  ----- \n",
      " 0   titulo     25 non-null     object\n",
      " 1   instagram  25 non-null     object\n",
      " 2   horario    25 non-null     object\n",
      " 3   menu       25 non-null     object\n",
      " 4   latitude   25 non-null     object\n",
      " 5   longitude  25 non-null     object\n",
      "dtypes: object(6)\n",
      "memory usage: 1.3+ KB\n"
     ]
    }
   ],
   "source": [
    "cafeterias.info()"
   ]
  },
  {
   "cell_type": "code",
   "execution_count": 39,
   "id": "1a762d4e-136b-4a28-bcc4-1b69b25a7871",
   "metadata": {},
   "outputs": [],
   "source": [
    "cafeterias.to_csv('cafeterias.csv', index=False)"
   ]
  }
 ],
 "metadata": {
  "kernelspec": {
   "display_name": "Python 3",
   "language": "python",
   "name": "python3"
  },
  "language_info": {
   "codemirror_mode": {
    "name": "ipython",
    "version": 3
   },
   "file_extension": ".py",
   "mimetype": "text/x-python",
   "name": "python",
   "nbconvert_exporter": "python",
   "pygments_lexer": "ipython3",
   "version": "3.8.10"
  }
 },
 "nbformat": 4,
 "nbformat_minor": 5
}
