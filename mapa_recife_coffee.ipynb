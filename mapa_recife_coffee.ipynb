{
 "cells": [
  {
   "cell_type": "code",
   "execution_count": 41,
   "id": "846ed9e2-67de-41e3-957a-80e84e630835",
   "metadata": {},
   "outputs": [],
   "source": [
    "import folium\n",
    "import pandas as pd"
   ]
  },
  {
   "cell_type": "code",
   "execution_count": 42,
   "id": "1dc63dd1-ae44-474f-9242-351980eae412",
   "metadata": {},
   "outputs": [
    {
     "name": "stdout",
     "output_type": "stream",
     "text": [
      "<class 'pandas.core.frame.DataFrame'>\n",
      "RangeIndex: 33 entries, 0 to 32\n",
      "Data columns (total 7 columns):\n",
      " #   Column             Non-Null Count  Dtype  \n",
      "---  ------             --------------  -----  \n",
      " 0   titulo             33 non-null     object \n",
      " 1   instagram          33 non-null     object \n",
      " 2   horario            33 non-null     object \n",
      " 3   menu               33 non-null     object \n",
      " 4   Nome-arquivo-menu  31 non-null     object \n",
      " 5   latitude           33 non-null     float64\n",
      " 6   longitude          33 non-null     float64\n",
      "dtypes: float64(2), object(5)\n",
      "memory usage: 1.9+ KB\n"
     ]
    }
   ],
   "source": [
    "cafeterias = pd.read_csv('cafeterias.csv')\n",
    "cafeterias.info()"
   ]
  },
  {
   "cell_type": "code",
   "execution_count": 43,
   "id": "a4c9d68d-542b-4501-9815-5851adc6fa46",
   "metadata": {},
   "outputs": [],
   "source": [
    "mapa = folium.Map(location=[-8.056608873022698, -34.89952347323082], #Praça do Derby\n",
    "                  title = 'Recife Coffee 2023',\n",
    "                  zoom_start=12)\n",
    "\n",
    "for _, cafeteria in cafeterias.iterrows():    \n",
    "    folium.Marker(\n",
    "        location=[cafeteria['latitude'], cafeteria['longitude']],\n",
    "        tooltip='''\n",
    "            <b>{}</b>\n",
    "            <br>\n",
    "            Clique para saber mais\n",
    "        '''.format(cafeteria['titulo']),\n",
    "        popup='''\n",
    "            <img src='{imagem}' height='400'> \n",
    "            <br> \n",
    "            <b>Horário:</b>\n",
    "            <br>\n",
    "            {horario}\n",
    "            <br>\n",
    "            <a href=\"https://www.instagram.com/{instagram}\">https://www.instagram.com/{instagram}</a>\n",
    "        '''.format(imagem=cafeteria['menu'], horario=cafeteria['horario'], instagram=cafeteria['instagram']),\n",
    "        icon=folium.Icon(color='darkgreen', prefix='fa', icon='coffee')\n",
    "    ).add_to(mapa)"
   ]
  },
  {
   "cell_type": "code",
   "execution_count": 44,
   "id": "d265d4bc-3feb-4352-b386-1f1f84cc3326",
   "metadata": {},
   "outputs": [],
   "source": [
    "mapa.save('mapa_recife_coffee_2023.html')"
   ]
  },
  {
   "cell_type": "code",
   "execution_count": null,
   "id": "fa0cfa1f-ae61-4c87-bf32-0916d6d21218",
   "metadata": {},
   "outputs": [],
   "source": []
  }
 ],
 "metadata": {
  "kernelspec": {
   "display_name": "Python 3",
   "language": "python",
   "name": "python3"
  },
  "language_info": {
   "codemirror_mode": {
    "name": "ipython",
    "version": 3
   },
   "file_extension": ".py",
   "mimetype": "text/x-python",
   "name": "python",
   "nbconvert_exporter": "python",
   "pygments_lexer": "ipython3",
   "version": "3.10.6"
  }
 },
 "nbformat": 4,
 "nbformat_minor": 5
}
